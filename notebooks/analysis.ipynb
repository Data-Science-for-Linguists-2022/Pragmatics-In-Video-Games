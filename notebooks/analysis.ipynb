{
 "cells": [
  {
   "cell_type": "markdown",
   "metadata": {},
   "source": [
    "# Analysis\n",
    "***\n",
    "[Alejandro Ciuba](alejandrociuba.github.io), alc307@pitt.edu\n",
    "***\n",
    "## Summary\n",
    "This is a continuation from the previous Jupyter Notebook (`overview.ipynb`) where I begin to analyze the data in-accordance to my proposed research questions. I might change or modify the research questions here. As such, I update both this and the main `README.md` file (not in `project_plan.md`, to retain the initial ideas for this research).\n",
    "***\n",
    "## Python Imports & Functions"
   ]
  },
  {
   "cell_type": "code",
   "execution_count": 5,
   "metadata": {},
   "outputs": [],
   "source": [
    "# Necessary imports\n",
    "import nltk\n",
    "\n",
    "import pandas as pd\n",
    "import numpy as np\n",
    "\n",
    "import matplotlib.pyplot as plt\n",
    "import seaborn as sns\n",
    "\n",
    "import re"
   ]
  },
  {
   "cell_type": "code",
   "execution_count": 2,
   "metadata": {},
   "outputs": [
    {
     "name": "stdout",
     "output_type": "stream",
     "text": [
      "Pretty printing has been turned OFF\n"
     ]
    }
   ],
   "source": [
    "# Settings\n",
    "# I looked this up so everything is prettier\n",
    "from IPython.display import display, HTML\n",
    "\n",
    "CSS = \"\"\"\n",
    ".output {\n",
    "    flex-direction: row;\n",
    "}\n",
    "\"\"\"\n",
    "\n",
    "HTML('<style>{}</style>'.format(CSS))\n",
    "\n",
    "# Use display(dataframe) to show\n",
    "\n",
    "%pprint"
   ]
  },
  {
   "cell_type": "code",
   "execution_count": 50,
   "metadata": {},
   "outputs": [],
   "source": [
    "# Useful functions\n",
    "# Makes a boxplot with my overall preferred settings\n",
    "def barplot(x:list=[], y:list=[], title:str='NO TITLE', xlabel:str='x', ylabel:str='y', xtickrot:float=0.0, figsize:tuple=(4,4)):\n",
    "\n",
    "    plt.figure(figsize=figsize)\n",
    "    ax = sns.barplot(x=x, y=y)\n",
    "    sns.set_style(style='dark')\n",
    "    plt.title(title)\n",
    "    plt.xlabel(xlabel)\n",
    "    plt.ylabel(ylabel)\n",
    "    plt.xticks(rotation=xtickrot)\n",
    "    plt.bar_label(ax.containers[0])\n",
    "    plt.show()"
   ]
  },
  {
   "cell_type": "code",
   "execution_count": 19,
   "metadata": {},
   "outputs": [],
   "source": [
    "# Bringing in the dataframes\n",
    "FILEPATH = \"../private/pickled_dfs/\"\n",
    "\n",
    "elder_scrolls_df = pd.read_pickle(FILEPATH + \"elder_scrolls.pkl\")\n",
    "hollow_knight_df = pd.read_pickle(FILEPATH + \"hollow_knight.pkl\")\n",
    "kotor_df = pd.read_pickle(FILEPATH + \"kotor.pkl\")\n",
    "torchlight_df = pd.read_pickle(FILEPATH + \"torchlight.pkl\")\n",
    "\n",
    "# All dfs stored in a simple list\n",
    "datasets = [elder_scrolls_df, hollow_knight_df, kotor_df, torchlight_df]"
   ]
  },
  {
   "cell_type": "markdown",
   "metadata": {},
   "source": [
    "***\n",
    "## How Are Orders/Requests Realized in Video Game Dialogue?\n",
    "This is a very broad topic. To approach this topic, let's first consider common phrases which indicate orders and requests.\n",
    "- Direct Orders:\n",
    "    1. _(Don't/Do not) mand. form X._\n",
    "    2. _I order/demand/force (that) you X._ (Performative Speech Act)\n",
    "- Indirect Orders:\n",
    "    1. _You /need to/have to/must X._\n",
    "    2. _Your objective/goal/quest/task is X._\n",
    "    3. _X need/want/require (that)/desire that you Y._ \n",
    "    4. _Let's/Let us X._\n",
    "- Direct Requests:\n",
    "    1. _Please X._\n",
    "    2. _I request (that you)/ask (of you) X._ (Performative Speech Act)\n",
    "- Indirect Requests:\n",
    "    1. _X would like (that) you Y._\n",
    "    2. _May/Would/Can/Could you X?_\n",
    "    3. _Is it possible to/that you X?_\n",
    "    4. _Are you able to X?_\n",
    "\n",
    "This is obviously not an exhastive list, but it does cover the most common forms that orders and requests can take."
   ]
  },
  {
   "cell_type": "markdown",
   "metadata": {},
   "source": [
    "***\n",
    "## Exploring Usage of the 2nd Person Pronoun and Other Pronouns and Pro-verbs.\n",
    "First, focusing on _you_ (not \"you-you\", but _you_, the word), let's simply graph the number of occurrences in each of the datasets. To do this, we must consider what forms of you could appear in the dataset. Obviously, the biggest concerns would be contractions (_you're_, _you'd_), but what about _y'all_? Since _y'all_ can refer **both** to an individual and a group of people, I chose to ignore it for two reasons:\n",
    "1. I am want to focus on the 2nd person **singular** pronoun to see how it is used in relation to the player.\n",
    "2. Overall occurrences of _y'all_ are low, and the times they refer directly to the player is even lower; this means we can ignore it without the concern of data-skewing.\n",
    "\n",
    "Below, I have created a function which, given a compiled regular expression, will find all instances of that regular expression for each textual item in a dataframe's column. I have compiled a relatively simple regex to capture all the _you_ instances I am after. I then plot the number of _you_ occurrences for each dataset."
   ]
  },
  {
   "cell_type": "code",
   "execution_count": 23,
   "metadata": {},
   "outputs": [],
   "source": [
    "you_re = re.compile(r\"\\byou(('re)|('d))?\\b\", re.IGNORECASE)\n",
    "\n",
    "# Function such that it counts all instances of the given regular expression for each item in a dataframe's specified column\n",
    "def locator(series: pd.Series, regex:re.Pattern) -> int:\n",
    "\n",
    "    count = 0\n",
    "    for item in series:\n",
    "        if x := regex.findall(item):\n",
    "            count += len(x)\n",
    "\n",
    "    return count"
   ]
  },
  {
   "cell_type": "code",
   "execution_count": 52,
   "metadata": {},
   "outputs": [
    {
     "data": {
      "image/png": "[encoded data removed]",
      "text/plain": [
       "<Figure size 576x288 with 1 Axes>"
      ]
     },
     "metadata": {},
     "output_type": "display_data"
    }
   ],
   "source": [
    "titles = [\"TES Books\", \"Hollow Knight\", \"KOTOR\", \"Torchlight\"]\n",
    "counts = [locator(elder_scrolls_df['text'], you_re), locator(hollow_knight_df['dialogue'], you_re), locator(kotor_df['text'], you_re), locator(torchlight_df['text'], you_re)]\n",
    "\n",
    "barplot(x=titles, y=counts, title='\"You\" Counts in Each Dataset', xlabel=\"Dataset\", ylabel=\"Count\", figsize=(8,4))"
   ]
  }
 ],
 "metadata": {
  "interpreter": {
   "hash": "916dbcbb3f70747c44a77c7bcd40155683ae19c65e1c03b4aa3499c5328201f1"
  },
  "kernelspec": {
   "display_name": "Python 3.8.10 64-bit",
   "language": "python",
   "name": "python3"
  },
  "language_info": {
   "codemirror_mode": {
    "name": "ipython",
    "version": 3
   },
   "file_extension": ".py",
   "mimetype": "text/x-python",
   "name": "python",
   "nbconvert_exporter": "python",
   "pygments_lexer": "ipython3",
   "version": "3.8.10"
  },
  "orig_nbformat": 4
 },
 "nbformat": 4,
 "nbformat_minor": 2
}
