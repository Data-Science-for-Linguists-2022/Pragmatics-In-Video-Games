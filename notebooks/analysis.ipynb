{
 "cells": [
  {
   "cell_type": "markdown",
   "metadata": {},
   "source": [
    "# Analysis\n",
    "***\n",
    "[Alejandro Ciuba](alejandrociuba.github.io), alc307@pitt.edu\n",
    "***\n",
    "## Summary\n",
    "This is a continuation from the previous Jupyter Notebook (`overview.ipynb`) where I begin to analyze the data in-accordance to my proposed research questions. I might change or modify the research questions here. As such, the original research question is stated at the beginning of its section and then changed appropriately throughout this notebook and updated in the main `README.md` file (not in `project_plan.md`).\n",
    "***"
   ]
  }
 ],
 "metadata": {
  "language_info": {
   "name": "python"
  },
  "orig_nbformat": 4
 },
 "nbformat": 4,
 "nbformat_minor": 2
}
